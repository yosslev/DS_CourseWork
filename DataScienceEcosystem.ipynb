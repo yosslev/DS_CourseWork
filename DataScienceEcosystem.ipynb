{
 "cells": [
  {
   "cell_type": "markdown",
   "id": "3251991e-d5e5-4211-9885-37c71a136e6b",
   "metadata": {},
   "source": [
    "# Data Science Tools and Ecosystem"
   ]
  },
  {
   "cell_type": "markdown",
   "id": "1cb5fef6-5d77-4b95-bf6c-772744e9b32b",
   "metadata": {},
   "source": [
    "## Author:\n",
    "Yossi Levy"
   ]
  },
  {
   "cell_type": "markdown",
   "id": "40bbb5ef-6d70-4027-a49c-8088ffea91ce",
   "metadata": {},
   "source": [
    "In this notebook, Data Science Tools and Ecosystem are summarized.\n"
   ]
  },
  {
   "cell_type": "markdown",
   "id": "9871d24c-4992-4c79-bedd-2fe25f00c29a",
   "metadata": {},
   "source": [
    "**Objectives:**\n",
    "- List popular languages used by Data Scientist\n",
    "- List popular python libraries used by Data Scientists\n",
    "- List popular Open Source tools used by Data Scientists\n",
    "- Show some examples of arithmetic expressions in python"
   ]
  },
  {
   "cell_type": "markdown",
   "id": "323faf33-933b-4128-bc7f-d0031e5a7ebc",
   "metadata": {},
   "source": [
    "**Some of the popular languages that Data Scientists use are:**\n",
    "1. Python\n",
    "2. R\n",
    "3. SQL\n",
    "4. Java"
   ]
  },
  {
   "cell_type": "markdown",
   "id": "ec9e5a43-ca01-4a0b-ba55-4a3ab633c781",
   "metadata": {},
   "source": [
    "**Some of the commonly used (python) libraries used by Data Scientists include:**\n",
    "1. numpy\n",
    "2. pandas\n",
    "3. matplotlib\n",
    "4. plotly\n"
   ]
  },
  {
   "cell_type": "markdown",
   "id": "22e7df76-6bf6-4076-b4fe-2cb2c0e704e9",
   "metadata": {},
   "source": [
    "|Data Science Tools|\n",
    "|-|\n",
    "|Jupyter Lab|\n",
    "|RStudio|\n",
    "|GitHub|"
   ]
  },
  {
   "cell_type": "markdown",
   "id": "219133ba-b791-46ae-983f-af6b1de3ef50",
   "metadata": {},
   "source": [
    "### Below are a few examples of evaluating arithmetic expressions in Python.\n"
   ]
  },
  {
   "cell_type": "code",
   "execution_count": 1,
   "id": "cadee9df-0a9f-4998-a717-49a339d4c929",
   "metadata": {},
   "outputs": [
    {
     "data": {
      "text/plain": [
       "17"
      ]
     },
     "execution_count": 1,
     "metadata": {},
     "output_type": "execute_result"
    }
   ],
   "source": [
    "#This a simple arithmetic expression to mutiply then add integers\n",
    "\n",
    "(3*4)+5"
   ]
  },
  {
   "cell_type": "code",
   "execution_count": 2,
   "id": "c2373ec2-401a-4420-bcd2-2bdb1a9f8f1b",
   "metadata": {},
   "outputs": [
    {
     "data": {
      "text/plain": [
       "3.3333333333333335"
      ]
     },
     "execution_count": 2,
     "metadata": {},
     "output_type": "execute_result"
    }
   ],
   "source": [
    "#This will convert 200 minutes to hours by diving by 60\n",
    "\n",
    "200 / 60"
   ]
  },
  {
   "cell_type": "code",
   "execution_count": null,
   "id": "19d80b6d-c5f2-4dc8-8250-f9a501f580a7",
   "metadata": {},
   "outputs": [],
   "source": []
  }
 ],
 "metadata": {
  "kernelspec": {
   "display_name": "Python 3 (ipykernel)",
   "language": "python",
   "name": "python3"
  },
  "language_info": {
   "codemirror_mode": {
    "name": "ipython",
    "version": 3
   },
   "file_extension": ".py",
   "mimetype": "text/x-python",
   "name": "python",
   "nbconvert_exporter": "python",
   "pygments_lexer": "ipython3",
   "version": "3.10.15"
  }
 },
 "nbformat": 4,
 "nbformat_minor": 5
}
